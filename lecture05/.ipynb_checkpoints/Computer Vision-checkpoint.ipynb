{
 "cells": [
  {
   "cell_type": "markdown",
   "metadata": {},
   "source": [
    "# Computer Vision\n",
    "* Computer vision\n",
    "* MNIST dataset\n",
    "* NN for images\n",
    "* CNN\n",
    "* CNN for images"
   ]
  },
  {
   "cell_type": "markdown",
   "metadata": {},
   "source": [
    "`pip install opencv-python keras tensorflow`"
   ]
  },
  {
   "cell_type": "markdown",
   "metadata": {},
   "source": [
    "## Computer Vision\n",
    "* 3 color channels\n",
    "* channels first\n",
    "* Open CV\n"
   ]
  },
  {
   "cell_type": "markdown",
   "metadata": {},
   "source": [
    "## MNIST database of handwritten digits\n",
    "\n",
    "Dataset of 60,000 28x28 grayscale images of the 10 digits, along with a test set of 10,000 images."
   ]
  },
  {
   "cell_type": "code",
   "execution_count": 9,
   "metadata": {},
   "outputs": [],
   "source": [
    "import keras\n",
    "\n",
    "(x_train, y_train), (x_test, y_test) = keras.datasets.mnist.load_data()"
   ]
  },
  {
   "cell_type": "code",
   "execution_count": 10,
   "metadata": {},
   "outputs": [
    {
     "data": {
      "text/plain": [
       "'x_train (60000, 28, 28) y_train (60000,) x_test (10000, 28, 28) y_test (10000,)'"
      ]
     },
     "execution_count": 10,
     "metadata": {},
     "output_type": "execute_result"
    }
   ],
   "source": [
    "f\"x_train {x_train.shape} y_train {y_train.shape} x_test {x_test.shape} y_test {y_test.shape}\""
   ]
  },
  {
   "cell_type": "code",
   "execution_count": 8,
   "metadata": {},
   "outputs": [],
   "source": [
    "batch_size = 128\n",
    "num_classes = 10\n",
    "epochs = 20\n",
    "img_rows, img_cols = 28, 28"
   ]
  },
  {
   "cell_type": "markdown",
   "metadata": {},
   "source": [
    "## NN for images"
   ]
  },
  {
   "cell_type": "code",
   "execution_count": 4,
   "metadata": {},
   "outputs": [
    {
     "name": "stdout",
     "output_type": "stream",
     "text": [
      "60000 train samples\n",
      "10000 test samples\n"
     ]
    }
   ],
   "source": [
    "x_train = x_train.reshape(60000, 784)\n",
    "x_test = x_test.reshape(10000, 784)\n",
    "x_train = x_train.astype('float32')\n",
    "x_test = x_test.astype('float32')\n",
    "x_train /= 255\n",
    "x_test /= 255\n",
    "print(x_train.shape[0], 'train samples')\n",
    "print(x_test.shape[0], 'test samples')\n",
    "\n",
    "# convert class vectors to binary class matrices\n",
    "y_train = keras.utils.to_categorical(y_train, num_classes)\n",
    "y_test = keras.utils.to_categorical(y_test, num_classes)"
   ]
  },
  {
   "cell_type": "code",
   "execution_count": 5,
   "metadata": {},
   "outputs": [
    {
     "name": "stdout",
     "output_type": "stream",
     "text": [
      "_________________________________________________________________\n",
      "Layer (type)                 Output Shape              Param #   \n",
      "=================================================================\n",
      "dense_1 (Dense)              (None, 512)               401920    \n",
      "_________________________________________________________________\n",
      "dropout_1 (Dropout)          (None, 512)               0         \n",
      "_________________________________________________________________\n",
      "dense_2 (Dense)              (None, 512)               262656    \n",
      "_________________________________________________________________\n",
      "dropout_2 (Dropout)          (None, 512)               0         \n",
      "_________________________________________________________________\n",
      "dense_3 (Dense)              (None, 10)                5130      \n",
      "=================================================================\n",
      "Total params: 669,706\n",
      "Trainable params: 669,706\n",
      "Non-trainable params: 0\n",
      "_________________________________________________________________\n"
     ]
    }
   ],
   "source": [
    "from keras.models import Sequential\n",
    "from keras.layers import *\n",
    "\n",
    "model = Sequential()\n",
    "model.add(Dense(512, activation='relu', input_shape=(784,)))\n",
    "model.add(Dropout(0.2))\n",
    "model.add(Dense(512, activation='relu'))\n",
    "model.add(Dropout(0.2))\n",
    "model.add(Dense(num_classes, activation='softmax'))\n",
    "\n",
    "model.summary()\n",
    "\n",
    "model.compile(loss='categorical_crossentropy',\n",
    "              optimizer='rmsprop',\n",
    "metrics=['accuracy'])"
   ]
  },
  {
   "cell_type": "code",
   "execution_count": 6,
   "metadata": {
    "scrolled": true
   },
   "outputs": [
    {
     "name": "stdout",
     "output_type": "stream",
     "text": [
      "Train on 60000 samples, validate on 10000 samples\n",
      "Epoch 1/20\n",
      "60000/60000 [==============================] - 13s 224us/step - loss: 0.2434 - acc: 0.9254 - val_loss: 0.1271 - val_acc: 0.9618\n",
      "Epoch 2/20\n",
      "60000/60000 [==============================] - 8s 129us/step - loss: 0.1053 - acc: 0.9678 - val_loss: 0.0773 - val_acc: 0.9760\n",
      "Epoch 3/20\n",
      "60000/60000 [==============================] - 8s 129us/step - loss: 0.0750 - acc: 0.9772 - val_loss: 0.0749 - val_acc: 0.9788\n",
      "Epoch 4/20\n",
      "60000/60000 [==============================] - 8s 130us/step - loss: 0.0620 - acc: 0.9817 - val_loss: 0.0639 - val_acc: 0.9827\n",
      "Epoch 5/20\n",
      "60000/60000 [==============================] - 8s 132us/step - loss: 0.0500 - acc: 0.9849 - val_loss: 0.0705 - val_acc: 0.9803\n",
      "Epoch 6/20\n",
      "60000/60000 [==============================] - 8s 132us/step - loss: 0.0428 - acc: 0.9872 - val_loss: 0.0810 - val_acc: 0.9804\n",
      "Epoch 7/20\n",
      "60000/60000 [==============================] - 8s 131us/step - loss: 0.0379 - acc: 0.9889 - val_loss: 0.0807 - val_acc: 0.9819\n",
      "Epoch 8/20\n",
      "60000/60000 [==============================] - 8s 130us/step - loss: 0.0352 - acc: 0.9897 - val_loss: 0.0937 - val_acc: 0.9804\n",
      "Epoch 9/20\n",
      "60000/60000 [==============================] - 8s 128us/step - loss: 0.0303 - acc: 0.9910 - val_loss: 0.0835 - val_acc: 0.9820\n",
      "Epoch 10/20\n",
      "60000/60000 [==============================] - 8s 129us/step - loss: 0.0292 - acc: 0.9915 - val_loss: 0.0823 - val_acc: 0.9815\n",
      "Epoch 11/20\n",
      "60000/60000 [==============================] - 8s 131us/step - loss: 0.0262 - acc: 0.9924 - val_loss: 0.0905 - val_acc: 0.9824\n",
      "Epoch 12/20\n",
      "60000/60000 [==============================] - 9s 149us/step - loss: 0.0261 - acc: 0.9928 - val_loss: 0.0874 - val_acc: 0.9842\n",
      "Epoch 13/20\n",
      "60000/60000 [==============================] - 8s 140us/step - loss: 0.0238 - acc: 0.9934 - val_loss: 0.0984 - val_acc: 0.9827\n",
      "Epoch 14/20\n",
      "60000/60000 [==============================] - 8s 141us/step - loss: 0.0227 - acc: 0.9938 - val_loss: 0.0919 - val_acc: 0.9841\n",
      "Epoch 15/20\n",
      "60000/60000 [==============================] - 9s 145us/step - loss: 0.0218 - acc: 0.9940 - val_loss: 0.0944 - val_acc: 0.9832\n",
      "Epoch 16/20\n",
      "60000/60000 [==============================] - 8s 141us/step - loss: 0.0202 - acc: 0.9945 - val_loss: 0.0996 - val_acc: 0.9834\n",
      "Epoch 17/20\n",
      "60000/60000 [==============================] - 8s 140us/step - loss: 0.0189 - acc: 0.9951 - val_loss: 0.0950 - val_acc: 0.9849\n",
      "Epoch 18/20\n",
      "60000/60000 [==============================] - 8s 136us/step - loss: 0.0176 - acc: 0.9956 - val_loss: 0.0969 - val_acc: 0.9853\n",
      "Epoch 19/20\n",
      "60000/60000 [==============================] - 8s 138us/step - loss: 0.0180 - acc: 0.9953 - val_loss: 0.1211 - val_acc: 0.9818\n",
      "Epoch 20/20\n",
      "60000/60000 [==============================] - 8s 137us/step - loss: 0.0182 - acc: 0.9955 - val_loss: 0.1055 - val_acc: 0.9840\n",
      "Test loss: 0.10552883866340253\n",
      "Test accuracy: 0.984\n"
     ]
    }
   ],
   "source": [
    "history = model.fit(x_train, y_train,\n",
    "                    batch_size=batch_size,\n",
    "                    epochs=epochs,\n",
    "                    verbose=1,\n",
    "                    validation_data=(x_test, y_test))\n",
    "score = model.evaluate(x_test, y_test, verbose=0)\n",
    "print('Test loss:', score[0])\n",
    "print('Test accuracy:', score[1])"
   ]
  },
  {
   "cell_type": "markdown",
   "metadata": {},
   "source": [
    "## CNN\n",
    "[video](https://youtu.be/umGJ30-15_A)\n",
    "* Instead of dense connection there are only local connections\n",
    "* Made immitating visual cortex\n",
    "* Layers\n",
    "    * Conv\n",
    "    * Activation\n",
    "    * Pooling\n",
    "    * Fully connected(Dense)\n",
    "* feature maps-> kernel size, filters\n",
    "* conv layer output is $ConvOut_{(i,j,filter)}=\\sum_{x=0}^{k}\\sum_{y=0}^{k} image_{(x+i-k/2,y+j-k/2)} filter_{(x,y)}$ "
   ]
  },
  {
   "cell_type": "markdown",
   "metadata": {},
   "source": [
    "## CNN for images"
   ]
  },
  {
   "cell_type": "code",
   "execution_count": 11,
   "metadata": {},
   "outputs": [
    {
     "name": "stdout",
     "output_type": "stream",
     "text": [
      "x_train shape: (60000, 28, 28, 1)\n",
      "60000 train samples\n",
      "10000 test samples\n"
     ]
    }
   ],
   "source": [
    "if keras.backend.image_data_format() == 'channels_first':\n",
    "    x_train = x_train.reshape(x_train.shape[0], 1, img_rows, img_cols)\n",
    "    x_test = x_test.reshape(x_test.shape[0], 1, img_rows, img_cols)\n",
    "    input_shape = (1, img_rows, img_cols)\n",
    "else:\n",
    "    x_train = x_train.reshape(x_train.shape[0], img_rows, img_cols, 1)\n",
    "    x_test = x_test.reshape(x_test.shape[0], img_rows, img_cols, 1)\n",
    "    input_shape = (img_rows, img_cols, 1)\n",
    "\n",
    "x_train = x_train.astype('float32')\n",
    "x_test = x_test.astype('float32')\n",
    "x_train /= 255\n",
    "x_test /= 255\n",
    "print('x_train shape:', x_train.shape)\n",
    "print(x_train.shape[0], 'train samples')\n",
    "print(x_test.shape[0], 'test samples')\n",
    "\n",
    "y_train = keras.utils.to_categorical(y_train, num_classes)\n",
    "y_test = keras.utils.to_categorical(y_test, num_classes)"
   ]
  },
  {
   "cell_type": "code",
   "execution_count": 14,
   "metadata": {},
   "outputs": [
    {
     "name": "stdout",
     "output_type": "stream",
     "text": [
      "_________________________________________________________________\n",
      "Layer (type)                 Output Shape              Param #   \n",
      "=================================================================\n",
      "conv2d_3 (Conv2D)            (None, 26, 26, 32)        320       \n",
      "_________________________________________________________________\n",
      "conv2d_4 (Conv2D)            (None, 24, 24, 64)        18496     \n",
      "_________________________________________________________________\n",
      "max_pooling2d_2 (MaxPooling2 (None, 12, 12, 64)        0         \n",
      "_________________________________________________________________\n",
      "dropout_5 (Dropout)          (None, 12, 12, 64)        0         \n",
      "_________________________________________________________________\n",
      "flatten_2 (Flatten)          (None, 9216)              0         \n",
      "_________________________________________________________________\n",
      "dense_6 (Dense)              (None, 128)               1179776   \n",
      "_________________________________________________________________\n",
      "dropout_6 (Dropout)          (None, 128)               0         \n",
      "_________________________________________________________________\n",
      "dense_7 (Dense)              (None, 10)                1290      \n",
      "=================================================================\n",
      "Total params: 1,199,882\n",
      "Trainable params: 1,199,882\n",
      "Non-trainable params: 0\n",
      "_________________________________________________________________\n"
     ]
    }
   ],
   "source": [
    "from keras.models import Sequential\n",
    "from keras.layers import *\n",
    "model = Sequential()\n",
    "model.add(Conv2D(32, kernel_size=(3, 3),\n",
    "                 activation='relu',\n",
    "                 input_shape=input_shape))\n",
    "model.add(Conv2D(64, (3, 3), activation='relu'))\n",
    "model.add(MaxPooling2D(pool_size=(2, 2)))\n",
    "model.add(Dropout(0.25))\n",
    "model.add(Flatten())\n",
    "model.add(Dense(128, activation='relu'))\n",
    "model.add(Dropout(0.5))\n",
    "model.add(Dense(num_classes, activation='softmax'))\n",
    "\n",
    "# model = Sequential()\n",
    "# model.add(Conv2D(filters = 32, kernel_size = (5,5),padding = 'Same', \n",
    "#                  activation ='relu', input_shape = (28,28,1)))\n",
    "# model.add(Conv2D(filters = 32, kernel_size = (5,5),padding = 'Same', \n",
    "#                  activation ='relu'))\n",
    "# model.add(MaxPool2D(pool_size=(2,2)))\n",
    "# model.add(Dropout(0.25))\n",
    "# model.add(Conv2D(filters = 64, kernel_size = (3,3),padding = 'Same', \n",
    "#                  activation ='relu'))\n",
    "# model.add(Conv2D(filters = 64, kernel_size = (3,3),padding = 'Same', \n",
    "#                  activation ='relu'))\n",
    "# model.add(MaxPool2D(pool_size=(2,2), strides=(2,2)))\n",
    "# model.add(Dropout(0.25))\n",
    "# model.add(Flatten())\n",
    "# model.add(Dense(256, activation = \"relu\"))\n",
    "# model.add(Dropout(0.5))\n",
    "# model.add(Dense(10, activation = \"softmax\"))\n",
    "model.summary()\n",
    "model.compile(loss=keras.losses.categorical_crossentropy,\n",
    "              optimizer=keras.optimizers.Adadelta(),\n",
    "metrics=['accuracy'])"
   ]
  },
  {
   "cell_type": "code",
   "execution_count": 13,
   "metadata": {
    "scrolled": true
   },
   "outputs": [
    {
     "name": "stdout",
     "output_type": "stream",
     "text": [
      "Train on 60000 samples, validate on 10000 samples\n",
      "Epoch 1/20\n",
      "60000/60000 [==============================] - 66s 1ms/step - loss: 0.2641 - acc: 0.9175 - val_loss: 0.0604 - val_acc: 0.9819\n",
      "Epoch 2/20\n",
      "60000/60000 [==============================] - 57s 950us/step - loss: 0.0887 - acc: 0.9733 - val_loss: 0.0442 - val_acc: 0.9847\n",
      "Epoch 3/20\n",
      "60000/60000 [==============================] - 57s 945us/step - loss: 0.0642 - acc: 0.9811 - val_loss: 0.0351 - val_acc: 0.9875\n",
      "Epoch 4/20\n",
      "60000/60000 [==============================] - 57s 948us/step - loss: 0.0531 - acc: 0.9840 - val_loss: 0.0335 - val_acc: 0.9881\n",
      "Epoch 5/20\n",
      "60000/60000 [==============================] - 58s 960us/step - loss: 0.0465 - acc: 0.9863 - val_loss: 0.0359 - val_acc: 0.9878\n",
      "Epoch 6/20\n",
      "60000/60000 [==============================] - 58s 972us/step - loss: 0.0381 - acc: 0.9881 - val_loss: 0.0328 - val_acc: 0.9893\n",
      "Epoch 7/20\n",
      "60000/60000 [==============================] - 58s 963us/step - loss: 0.0356 - acc: 0.9892 - val_loss: 0.0287 - val_acc: 0.9908\n",
      "Epoch 8/20\n",
      "60000/60000 [==============================] - 59s 983us/step - loss: 0.0316 - acc: 0.9902 - val_loss: 0.0264 - val_acc: 0.9910\n",
      "Epoch 9/20\n",
      "60000/60000 [==============================] - 59s 979us/step - loss: 0.0307 - acc: 0.9906 - val_loss: 0.0267 - val_acc: 0.9909\n",
      "Epoch 10/20\n",
      "60000/60000 [==============================] - 60s 992us/step - loss: 0.0299 - acc: 0.9906 - val_loss: 0.0237 - val_acc: 0.9921\n",
      "Epoch 11/20\n",
      "60000/60000 [==============================] - 59s 982us/step - loss: 0.0273 - acc: 0.9915 - val_loss: 0.0259 - val_acc: 0.9918\n",
      "Epoch 12/20\n",
      "60000/60000 [==============================] - 58s 969us/step - loss: 0.0261 - acc: 0.9923 - val_loss: 0.0258 - val_acc: 0.9911\n",
      "Epoch 13/20\n",
      "60000/60000 [==============================] - 58s 970us/step - loss: 0.0239 - acc: 0.9922 - val_loss: 0.0278 - val_acc: 0.9914\n",
      "Epoch 14/20\n",
      "60000/60000 [==============================] - 57s 951us/step - loss: 0.0248 - acc: 0.9921 - val_loss: 0.0268 - val_acc: 0.9914\n",
      "Epoch 15/20\n",
      "60000/60000 [==============================] - 58s 965us/step - loss: 0.0221 - acc: 0.9932 - val_loss: 0.0304 - val_acc: 0.9910\n",
      "Epoch 16/20\n",
      "60000/60000 [==============================] - 59s 985us/step - loss: 0.0221 - acc: 0.9929 - val_loss: 0.0288 - val_acc: 0.9916\n",
      "Epoch 17/20\n",
      "60000/60000 [==============================] - 58s 959us/step - loss: 0.0218 - acc: 0.9934 - val_loss: 0.0258 - val_acc: 0.9919\n",
      "Epoch 18/20\n",
      "60000/60000 [==============================] - 57s 958us/step - loss: 0.0197 - acc: 0.9940 - val_loss: 0.0313 - val_acc: 0.9918\n",
      "Epoch 19/20\n",
      "60000/60000 [==============================] - 57s 952us/step - loss: 0.0200 - acc: 0.9937 - val_loss: 0.0295 - val_acc: 0.9915\n",
      "Epoch 20/20\n",
      "60000/60000 [==============================] - 58s 960us/step - loss: 0.0201 - acc: 0.9937 - val_loss: 0.0271 - val_acc: 0.9924\n",
      "Test loss: 0.0270928867281963\n",
      "Test accuracy: 0.9924\n"
     ]
    }
   ],
   "source": [
    "model.fit(x_train, y_train,\n",
    "          batch_size=batch_size,\n",
    "          epochs=epochs,\n",
    "          verbose=1,\n",
    "          validation_data=(x_test, y_test))\n",
    "score = model.evaluate(x_test, y_test, verbose=0)\n",
    "print('Test loss:', score[0])\n",
    "print('Test accuracy:', score[1])"
   ]
  },
  {
   "cell_type": "markdown",
   "metadata": {},
   "source": [
    "## Cats & Dogs"
   ]
  },
  {
   "cell_type": "code",
   "execution_count": null,
   "metadata": {},
   "outputs": [],
   "source": []
  }
 ],
 "metadata": {
  "kernelspec": {
   "display_name": "Python 3",
   "language": "python",
   "name": "python3"
  },
  "language_info": {
   "codemirror_mode": {
    "name": "ipython",
    "version": 3
   },
   "file_extension": ".py",
   "mimetype": "text/x-python",
   "name": "python",
   "nbconvert_exporter": "python",
   "pygments_lexer": "ipython3",
   "version": "3.6.8"
  }
 },
 "nbformat": 4,
 "nbformat_minor": 2
}
